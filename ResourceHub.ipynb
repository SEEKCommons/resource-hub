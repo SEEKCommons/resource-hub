{
 "cells": [
  {
   "cell_type": "markdown",
   "metadata": {},
   "source": [
    "# A Knowledge Graph for the SEEKCommons Project\n",
    "\n",
    "The Resource Hub is a *[knowledge graph](https://en.wikipedia.org/wiki/Knowledge_graph)* curated by the __[SEEKCommons project](https://seekcommons.org/)__ that connects the various resources and entities in the SEEKCommons project. The graph is built using the [Wikidata](https://www.wikidata.org/wiki/Wikidata:Main_Page) database and is accessible via the [SPARQL](https://en.wikipedia.org/wiki/SPARQL)query language.\n",
    "\n",
    "\n",
    "\n",
    "## Where to start?\n",
    "\n",
    "The graph is centered around the concept of a *resource*. A resource can be anything from a researcher, a research organization, a software tool, a dataset or a publication. Each resource is connected to other resources through various relationships. For example, a publication can be connected to a researcher who created it, a project that funded it, a publication that used it, or a software tool that processed it."
   ]
  },
  {
   "cell_type": "markdown",
   "metadata": {},
   "source": [
    "### Researchers"
   ]
  },
  {
   "cell_type": "code",
   "execution_count": null,
   "metadata": {},
   "outputs": [],
   "source": [
    "query = '''\n",
    "SELECT ?researcher ?orcid ?name\n",
    "WHERE\n",
    "{\n",
    "  # instance of (https://www.wikidata.org/wiki/Property:P31) = human (https://www.wikidata.org/wiki/Q5)\n",
    "  ?researcher wdt:P31  wd:Q5 .\n",
    "  # occupation (https://www.wikidata.org/wiki/Property:P106) = researcher (https://www.wikidata.org/wiki/Q1650915)\n",
    "  ?researcher wdt:P106 wd:Q1650915 .\n",
    "  # ORCID iD (https://www.wikidata.org/wiki/Property:P496) => ?orcid\n",
    "  ?researcher wdt:P496 ?orcid .\n",
    "  # name in native language (https://www.wikidata.org/wiki/Property:P1559) => ?name\n",
    "  ?researcher wdt:P1559 ?name .\n",
    "  SERVICE wikibase:label { bd:serviceParam wikibase:language \"en\". }\n",
    "}\n",
    "LIMIT 1000\n",
    "'''"
   ]
  },
  {
   "cell_type": "code",
   "execution_count": null,
   "metadata": {},
   "outputs": [],
   "source": [
    "import python.data_extraction as DEX\n",
    "\n",
    "data_extracter = DEX.WikiDataQueryResults(query)\n",
    "df = data_extracter.load_as_dataframe()\n",
    "df.head(10)"
   ]
  }
 ],
 "metadata": {
  "kernelspec": {
   "display_name": "seekcommons",
   "language": "python",
   "name": "python3"
  },
  "language_info": {
   "codemirror_mode": {
    "name": "ipython",
    "version": 3
   },
   "file_extension": ".py",
   "mimetype": "text/x-python",
   "name": "python",
   "nbconvert_exporter": "python",
   "pygments_lexer": "ipython3",
   "version": "3.12.1"
  }
 },
 "nbformat": 4,
 "nbformat_minor": 2
}
