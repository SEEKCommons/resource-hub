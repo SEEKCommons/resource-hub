{
 "cells": [
  {
   "cell_type": "markdown",
   "metadata": {},
   "source": [
    "See the article __[Extracting Data from Wikidata Using SPARQL and Python](https://itnext.io/extracting-data-from-wikidata-using-sparql-and-python-59e0037996f)__ by Jelle van Kerkvoorde.\n",
    "\n",
    "The query retrieves the name, location, and founding date of all cities in the United States."
   ]
  },
  {
   "cell_type": "code",
   "execution_count": 8,
   "metadata": {},
   "outputs": [],
   "source": [
    "query = '''\n",
    "SELECT ?city ?cityLabel ?location ?locationLabel ?founding_date\n",
    "WHERE {\n",
    "?city wdt:P31/wdt:P279* wd:Q515.\n",
    "?city wdt:P17 wd:Q30.\n",
    "?city wdt:P625 ?location.\n",
    "?city wdt:P571 ?founding_date.\n",
    "SERVICE wikibase:label { bd:serviceParam wikibase:language \"en\". }\n",
    "}\n",
    "'''"
   ]
  },
  {
   "cell_type": "code",
   "execution_count": 9,
   "metadata": {},
   "outputs": [
    {
     "name": "stdout",
     "output_type": "stream",
     "text": [
      "                                    city  ...                       locationLabel\n",
      "0     http://www.wikidata.org/entity/Q62  ...       Point(-122.416388888 37.7775)\n",
      "1     http://www.wikidata.org/entity/Q62  ...       Point(-122.416388888 37.7775)\n",
      "2     http://www.wikidata.org/entity/Q65  ...          Point(-118.24368 34.05223)\n",
      "3   http://www.wikidata.org/entity/Q5917  ...  Point(-117.999722222 33.692777777)\n",
      "4  http://www.wikidata.org/entity/Q16552  ...             Point(-117.1625 32.715)\n",
      "\n",
      "[5 rows x 5 columns]\n"
     ]
    }
   ],
   "source": [
    "import python.data_extraction as DEX\n",
    "\n",
    "data_extracter = DEX.WikiDataQueryResults(query)\n",
    "df = data_extracter.load_as_dataframe()\n",
    "print(df.head())"
   ]
  }
 ],
 "metadata": {
  "kernelspec": {
   "display_name": "seekcommons",
   "language": "python",
   "name": "python3"
  },
  "language_info": {
   "codemirror_mode": {
    "name": "ipython",
    "version": 3
   },
   "file_extension": ".py",
   "mimetype": "text/x-python",
   "name": "python",
   "nbconvert_exporter": "python",
   "pygments_lexer": "ipython3",
   "version": "3.12.1"
  }
 },
 "nbformat": 4,
 "nbformat_minor": 2
}
