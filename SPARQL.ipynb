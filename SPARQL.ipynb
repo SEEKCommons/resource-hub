{
 "cells": [
  {
   "cell_type": "markdown",
   "metadata": {},
   "source": [
    "See the article __[Extracting Data from Wikidata Using SPARQL and Python](https://itnext.io/extracting-data-from-wikidata-using-sparql-and-python-59e0037996f)__ by Jelle van Kerkvoorde.\n",
    "\n",
    "The query retrieves the name, location, and founding date of all cities in the United States.\n",
    "\n",
    "The qualifiers are:\n",
    "\n",
    "- [`wdt:P31`](https://www.wikidata.org/wiki/Property:P31) - instance of\n",
    "- [`wd:P279`](https://www.wikidata.org/wiki/Property:P279) - subclass of\n",
    "- [`wd:Q515`](https://www.wikidata.org/wiki/Q515) - city\n",
    "- [`wdt:P17`](https://www.wikidata.org/wiki/Property:P17) - country\n",
    "- [`wd:Q30`](https://www.wikidata.org/wiki/Q30) - United States of America\n",
    "- [`wdt:P625`](https://www.wikidata.org/wiki/Property:P625) - coordinate location\n",
    "- [`wdt:P571`](https://www.wikidata.org/wiki/Property:P571) - inception"
   ]
  },
  {
   "cell_type": "code",
   "execution_count": 1,
   "metadata": {},
   "outputs": [],
   "source": [
    "query = '''\n",
    "SELECT ?city ?cityLabel ?location ?locationLabel ?founding_date\n",
    "WHERE {\n",
    "?city wdt:P31/wdt:P279* wd:Q515.\n",
    "?city wdt:P17 wd:Q30.\n",
    "?city wdt:P625 ?location.\n",
    "?city wdt:P571 ?founding_date.\n",
    "SERVICE wikibase:label { bd:serviceParam wikibase:language \"en\". }\n",
    "}\n",
    "'''"
   ]
  },
  {
   "cell_type": "code",
   "execution_count": 3,
   "metadata": {},
   "outputs": [
    {
     "data": {
      "text/html": [
       "<div>\n",
       "<style scoped>\n",
       "    .dataframe tbody tr th:only-of-type {\n",
       "        vertical-align: middle;\n",
       "    }\n",
       "\n",
       "    .dataframe tbody tr th {\n",
       "        vertical-align: top;\n",
       "    }\n",
       "\n",
       "    .dataframe thead th {\n",
       "        text-align: right;\n",
       "    }\n",
       "</style>\n",
       "<table border=\"1\" class=\"dataframe\">\n",
       "  <thead>\n",
       "    <tr style=\"text-align: right;\">\n",
       "      <th></th>\n",
       "      <th>city</th>\n",
       "      <th>founding_date</th>\n",
       "      <th>location</th>\n",
       "      <th>cityLabel</th>\n",
       "      <th>locationLabel</th>\n",
       "    </tr>\n",
       "  </thead>\n",
       "  <tbody>\n",
       "    <tr>\n",
       "      <th>0</th>\n",
       "      <td>http://www.wikidata.org/entity/Q62</td>\n",
       "      <td>1776-06-29T00:00:00Z</td>\n",
       "      <td>Point(-122.416388888 37.7775)</td>\n",
       "      <td>San Francisco</td>\n",
       "      <td>Point(-122.416388888 37.7775)</td>\n",
       "    </tr>\n",
       "    <tr>\n",
       "      <th>1</th>\n",
       "      <td>http://www.wikidata.org/entity/Q65</td>\n",
       "      <td>1781-09-04T00:00:00Z</td>\n",
       "      <td>Point(-118.24368 34.05223)</td>\n",
       "      <td>Los Angeles</td>\n",
       "      <td>Point(-118.24368 34.05223)</td>\n",
       "    </tr>\n",
       "    <tr>\n",
       "      <th>2</th>\n",
       "      <td>http://www.wikidata.org/entity/Q5917</td>\n",
       "      <td>1909-02-17T00:00:00Z</td>\n",
       "      <td>Point(-117.999722222 33.692777777)</td>\n",
       "      <td>Huntington Beach</td>\n",
       "      <td>Point(-117.999722222 33.692777777)</td>\n",
       "    </tr>\n",
       "    <tr>\n",
       "      <th>3</th>\n",
       "      <td>http://www.wikidata.org/entity/Q6586</td>\n",
       "      <td>1870-01-01T00:00:00Z</td>\n",
       "      <td>Point(-75.463333333 43.219444444)</td>\n",
       "      <td>Rome</td>\n",
       "      <td>Point(-75.463333333 43.219444444)</td>\n",
       "    </tr>\n",
       "    <tr>\n",
       "      <th>4</th>\n",
       "      <td>http://www.wikidata.org/entity/Q16552</td>\n",
       "      <td>1769-07-16T00:00:00Z</td>\n",
       "      <td>Point(-117.1625 32.715)</td>\n",
       "      <td>San Diego</td>\n",
       "      <td>Point(-117.1625 32.715)</td>\n",
       "    </tr>\n",
       "  </tbody>\n",
       "</table>\n",
       "</div>"
      ],
      "text/plain": [
       "                                    city         founding_date  \\\n",
       "0     http://www.wikidata.org/entity/Q62  1776-06-29T00:00:00Z   \n",
       "1     http://www.wikidata.org/entity/Q65  1781-09-04T00:00:00Z   \n",
       "2   http://www.wikidata.org/entity/Q5917  1909-02-17T00:00:00Z   \n",
       "3   http://www.wikidata.org/entity/Q6586  1870-01-01T00:00:00Z   \n",
       "4  http://www.wikidata.org/entity/Q16552  1769-07-16T00:00:00Z   \n",
       "\n",
       "                             location         cityLabel  \\\n",
       "0       Point(-122.416388888 37.7775)     San Francisco   \n",
       "1          Point(-118.24368 34.05223)       Los Angeles   \n",
       "2  Point(-117.999722222 33.692777777)  Huntington Beach   \n",
       "3   Point(-75.463333333 43.219444444)              Rome   \n",
       "4             Point(-117.1625 32.715)         San Diego   \n",
       "\n",
       "                        locationLabel  \n",
       "0       Point(-122.416388888 37.7775)  \n",
       "1          Point(-118.24368 34.05223)  \n",
       "2  Point(-117.999722222 33.692777777)  \n",
       "3   Point(-75.463333333 43.219444444)  \n",
       "4             Point(-117.1625 32.715)  "
      ]
     },
     "execution_count": 3,
     "metadata": {},
     "output_type": "execute_result"
    }
   ],
   "source": [
    "import python.data_extraction as DEX\n",
    "\n",
    "data_extracter = DEX.WikiDataQueryResults(query)\n",
    "df = data_extracter.load_as_dataframe()\n",
    "df.head()"
   ]
  }
 ],
 "metadata": {
  "kernelspec": {
   "display_name": "seekcommons",
   "language": "python",
   "name": "python3"
  },
  "language_info": {
   "codemirror_mode": {
    "name": "ipython",
    "version": 3
   },
   "file_extension": ".py",
   "mimetype": "text/x-python",
   "name": "python",
   "nbconvert_exporter": "python",
   "pygments_lexer": "ipython3",
   "version": "3.12.1"
  }
 },
 "nbformat": 4,
 "nbformat_minor": 2
}
