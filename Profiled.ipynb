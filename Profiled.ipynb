{
 "cells": [
  {
   "cell_type": "code",
   "execution_count": null,
   "metadata": {},
   "outputs": [],
   "source": [
    "query = '''\n",
    "SELECT DISTINCT ?item ?itemLabel WHERE {\n",
    "  SERVICE wikibase:label { bd:serviceParam wikibase:language \"en\". }\n",
    "  {\n",
    "    SELECT DISTINCT ?item WHERE {\n",
    "      {\n",
    "        ?item p:P31 ?statement0.\n",
    "        ?statement0 (ps:P31/(wdt:P279*)) wd:Q230788.\n",
    "      }\n",
    "      UNION\n",
    "      {\n",
    "        ?item p:P31 ?statement1.\n",
    "        ?statement1 (ps:P31/(wdt:P279*)) wd:Q1298668.\n",
    "      }\n",
    "      {\n",
    "        ?item p:P8324 ?statement2.\n",
    "        ?statement2 (ps:P8324/(wdt:P279*)) wd:Q304878.\n",
    "      }\n",
    "      UNION\n",
    "      {\n",
    "        ?item p:P859 ?statement3.\n",
    "        ?statement3 (ps:P859/(wdt:P279*)) wd:Q304878.\n",
    "      }\n",
    "      {\n",
    "        ?item p:P921 ?statement4.\n",
    "        ?statement4 (ps:P921/(wdt:P279*)) wd:Q1479527.\n",
    "      }\n",
    "      UNION\n",
    "      {\n",
    "        ?item p:P921 ?statement5.\n",
    "        ?statement5 (ps:P921/(wdt:P279*)) wd:Q2445082.\n",
    "      }\n",
    "      UNION\n",
    "      {\n",
    "        ?item p:P921 ?statement6.\n",
    "        ?statement6 (ps:P921/(wdt:P279*)) wd:Q9828451.\n",
    "      }\n",
    "    }\n",
    "  }\n",
    "}\n",
    "'''"
   ]
  },
  {
   "cell_type": "code",
   "execution_count": null,
   "metadata": {},
   "outputs": [],
   "source": [
    "import python.data_extraction as DEX\n",
    "\n",
    "data_extracter = DEX.WikiDataQueryResults(query)\n",
    "df = data_extracter.load_as_dataframe()\n",
    "print(df)"
   ]
  }
 ],
 "metadata": {
  "kernelspec": {
   "display_name": "seekcommons",
   "language": "python",
   "name": "python3"
  },
  "language_info": {
   "codemirror_mode": {
    "name": "ipython",
    "version": 3
   },
   "file_extension": ".py",
   "mimetype": "text/x-python",
   "name": "python",
   "nbconvert_exporter": "python",
   "pygments_lexer": "ipython3",
   "version": "3.12.1"
  }
 },
 "nbformat": 4,
 "nbformat_minor": 2
}
